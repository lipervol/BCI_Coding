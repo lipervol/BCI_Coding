{
 "cells": [
  {
   "cell_type": "code",
   "execution_count": 1,
   "id": "bac9093f",
   "metadata": {},
   "outputs": [],
   "source": [
    "import data_process\n",
    "import numpy as np"
   ]
  },
  {
   "cell_type": "code",
   "execution_count": 2,
   "id": "a5d39225",
   "metadata": {},
   "outputs": [],
   "source": [
    "t=np.linspace(0, 3, 3 * 250)\n",
    "f=np.linspace(10, 15, 50)"
   ]
  },
  {
   "cell_type": "code",
   "execution_count": 3,
   "id": "1f58f9cd",
   "metadata": {},
   "outputs": [],
   "source": [
    "y=data_process.gen_template(f,t)"
   ]
  },
  {
   "cell_type": "code",
   "execution_count": 4,
   "id": "a70ac848",
   "metadata": {},
   "outputs": [],
   "source": [
    "x=np.sin(2 * np.pi * 13 * t)\n",
    "x=x[:,None]"
   ]
  },
  {
   "cell_type": "code",
   "execution_count": 8,
   "id": "14321be5",
   "metadata": {},
   "outputs": [
    {
     "data": {
      "text/plain": [
       "750"
      ]
     },
     "execution_count": 8,
     "metadata": {},
     "output_type": "execute_result"
    }
   ],
   "source": [
    "x.shape[0]"
   ]
  },
  {
   "cell_type": "code",
   "execution_count": 7,
   "id": "fbc5419f",
   "metadata": {},
   "outputs": [
    {
     "data": {
      "text/plain": [
       "12.959183673469388"
      ]
     },
     "execution_count": 7,
     "metadata": {},
     "output_type": "execute_result"
    }
   ],
   "source": [
    "l=data_process.cca_classification(x,y)\n",
    "idx=np.argmax(l)\n",
    "f[idx]"
   ]
  },
  {
   "cell_type": "code",
   "execution_count": 9,
   "id": "36fe694c",
   "metadata": {},
   "outputs": [],
   "source": [
    "a=[1,2,3,8,6,5]"
   ]
  },
  {
   "cell_type": "code",
   "execution_count": 10,
   "id": "f210f697",
   "metadata": {},
   "outputs": [
    {
     "data": {
      "text/plain": [
       "3"
      ]
     },
     "execution_count": 10,
     "metadata": {},
     "output_type": "execute_result"
    }
   ],
   "source": [
    "np.argmax(a)"
   ]
  },
  {
   "cell_type": "code",
   "execution_count": null,
   "id": "2ac3ee25",
   "metadata": {},
   "outputs": [],
   "source": []
  }
 ],
 "metadata": {
  "kernelspec": {
   "display_name": "Python 3 (ipykernel)",
   "language": "python",
   "name": "python3"
  },
  "language_info": {
   "codemirror_mode": {
    "name": "ipython",
    "version": 3
   },
   "file_extension": ".py",
   "mimetype": "text/x-python",
   "name": "python",
   "nbconvert_exporter": "python",
   "pygments_lexer": "ipython3",
   "version": "3.8.8"
  }
 },
 "nbformat": 4,
 "nbformat_minor": 5
}
